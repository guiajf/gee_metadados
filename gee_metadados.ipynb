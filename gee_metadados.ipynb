{
 "cells": [
  {
   "cell_type": "markdown",
   "id": "f842ba93-f137-4b90-a236-bc325122d610",
   "metadata": {},
   "source": [
    "# Propriedades das imagens geoespaciais"
   ]
  },
  {
   "cell_type": "markdown",
   "id": "0562570c-5e6f-4f77-95dc-33366972a7a1",
   "metadata": {},
   "source": [
    "### Características das bandas "
   ]
  },
  {
   "cell_type": "markdown",
   "id": "d7b3c18d-093a-4abf-9a6c-4a4428e565d6",
   "metadata": {},
   "source": [
    "A página de desenvolvedor do **Google** fornece informações detalhadas sobre o catálogo *Harmonized Sentinel-2 MSI: MultiSpectral Instrument, Level-2A*, assim como os demais. A tabela de referência contendo informações sobre as bandas das imagens pode ser obtida no endereço https://developers.google.com/earth-engine/datasets/catalog/COPERNICUS_S2_SR_HARMONIZED#bands."
   ]
  },
  {
   "cell_type": "code",
   "execution_count": null,
   "id": "6098d509-93e0-493b-b00d-3a4c1bc81fbb",
   "metadata": {},
   "outputs": [],
   "source": [
    "import requests\n",
    "from bs4 import BeautifulSoup\n",
    "import pandas as pd\n",
    "\n",
    "# Define a URL da página web\n",
    "url = \"https://developers.google.com/earth-engine/datasets/catalog/COPERNICUS_S2_SR_HARMONIZED#bands\"\n",
    "\n",
    "# Faz uma requisição HTTP para a URL\n",
    "response = requests.get(url)\n",
    "\n",
    "# Verifica se a requisição foi bem-sucedida\n",
    "if response.status_code == 200:\n",
    "    # Cria um objeto BeautifulSoup para analisar o código fonte HTML\n",
    "    soup = BeautifulSoup(response.text, 'html.parser')\n",
    "\n",
    "    # Encontra a tabela de bandas usando a classe 'eecat'\n",
    "    bands_table = soup.find('table', class_='eecat')\n",
    "\n",
    "    # Se a tabela for encontrada, extraia as informações\n",
    "    if bands_table:\n",
    "        # Cria listas para armazenar as informações das bandas\n",
    "        band_names = []\n",
    "        band_units = []\n",
    "        band_min = []\n",
    "        band_max = []\n",
    "        band_scale = []\n",
    "        band_pixel_size = []\n",
    "        band_wavelength = []\n",
    "        band_description = []\n",
    "\n",
    "        # Itera sobre as linhas da tabela\n",
    "        for row in bands_table.find_all('tr'):\n",
    "            # Itera sobre as células da linha\n",
    "            cells = row.find_all('td')\n",
    "            # Verifica se a linha tem pelo menos 8 células\n",
    "            if len(cells) >= 8:\n",
    "                # Extrai as informações das células\n",
    "                band_names.append(cells[0].text.strip())\n",
    "                band_units.append(cells[1].text.strip())\n",
    "                band_min.append(cells[2].text.strip())\n",
    "                band_max.append(cells[3].text.strip())\n",
    "                band_scale.append(cells[4].text.strip())\n",
    "                band_pixel_size.append(cells[5].text.strip())\n",
    "                band_wavelength.append(cells[6].text.strip())\n",
    "                band_description.append(cells[7].text.strip())\n",
    "\n",
    "        # Cria um DataFrame Pandas com as informações das bandas\n",
    "        bands_df = pd.DataFrame({\n",
    "            'Name': band_names,\n",
    "            'Units': band_units,\n",
    "            'Min': band_min,\n",
    "            'Max': band_max,\n",
    "            'Scale': band_scale,\n",
    "            'Pixel Size': band_pixel_size,\n",
    "            'Wavelength': band_wavelength,\n",
    "            'Description': band_description\n",
    "        })\n",
    "\n",
    "        # Filtrando as bandas que começam com 'B'\n",
    "        df = bands_df[bands_df['Name'].str.startswith('B')]\n",
    "\n",
    "        # Selecionando as colunas desejadas\n",
    "        df = df[['Name', 'Scale', 'Pixel Size', 'Wavelength', 'Description']]\n",
    "        # Exibe o DataFrame Pandas\n",
    "        print(df)\n",
    "    else:\n",
    "        print(\"A tabela com a classe 'eecat' não foi encontrada na página web.\")\n",
    "else:\n",
    "    print(\"Erro ao acessar a página web:\", response.status_code)"
   ]
  },
  {
   "cell_type": "markdown",
   "id": "2a72b10d-1e7c-4e39-ba65-5d7a976f72b6",
   "metadata": {},
   "source": [
    "### Propriedades gerais"
   ]
  },
  {
   "cell_type": "markdown",
   "id": "5ebcafb6-0b5f-475b-b689-375adb09c504",
   "metadata": {},
   "source": [
    "Embora nem todas as características das bandas descritas na tabela de referência possam ser acessadas diretamente, diversas propriedades das imagens podem ser exibidas através de métodos fornecidos pelo **Google Earth Engine**, para extração dos metadados."
   ]
  },
  {
   "cell_type": "markdown",
   "id": "a7f7bf45-0bbb-45bb-88b7-ce4bec5a4bc7",
   "metadata": {},
   "source": [
    "Para acesso ao catálogo de imagens geoespaciais do **Google Earth Engine**, repetimos os procedimentos descritos anteriormente "
   ]
  },
  {
   "cell_type": "markdown",
   "id": "d6c889d0-b35e-4eac-915e-638b1e20c625",
   "metadata": {},
   "source": [
    "### Importamos as bibliotecas"
   ]
  },
  {
   "cell_type": "code",
   "execution_count": null,
   "id": "88137d5a-7f55-49d6-b61a-5c9dd6067db8",
   "metadata": {},
   "outputs": [],
   "source": [
    "import ee\n",
    "import geemap\n",
    "import rasterio\n",
    "from rasterio.plot import show\n",
    "import matplotlib.pyplot as plt\n",
    "from matplotlib.patches import Polygon"
   ]
  },
  {
   "cell_type": "markdown",
   "id": "fce744bb-597e-4aa0-9258-58abab4f9d8f",
   "metadata": {},
   "source": [
    "### Inicializamos a API"
   ]
  },
  {
   "cell_type": "code",
   "execution_count": null,
   "id": "90303401-8359-4c8e-a566-769185415112",
   "metadata": {},
   "outputs": [],
   "source": [
    "# Processo de autenticação\n",
    "ee.Authenticate()\n",
    "\n",
    "# Inicializamos a biblioteca\n",
    "ee.Initialize()"
   ]
  },
  {
   "cell_type": "markdown",
   "id": "1ba6ac6a-0002-48a4-9999-7a5ce70a46ba",
   "metadata": {},
   "source": [
    "### Definição de parâmetros"
   ]
  },
  {
   "cell_type": "markdown",
   "id": "8e3b8e9f-94bd-4d60-a242-0f8bd15a39fe",
   "metadata": {},
   "source": [
    "*Intervalo temporal*"
   ]
  },
  {
   "cell_type": "code",
   "execution_count": null,
   "id": "f7a3afdc-c959-462a-bc55-da3f30959276",
   "metadata": {},
   "outputs": [],
   "source": [
    "data_inicial = '2024-04-01'\n",
    "data_final = '2024-07-31'"
   ]
  },
  {
   "cell_type": "markdown",
   "id": "1d11e81c-daea-407b-9259-d62ae2359f78",
   "metadata": {},
   "source": [
    "*Área de interesse*"
   ]
  },
  {
   "cell_type": "code",
   "execution_count": null,
   "id": "3b09a50a-78c9-48e7-87a3-0177e014b086",
   "metadata": {},
   "outputs": [],
   "source": [
    "polygon_coords = [\n",
    "    [-43.41287287680422, -21.756108688468274],\n",
    "    [-43.396307553928246, -21.756108688468274],\n",
    "    [-43.396307553928246, -21.750887131860495],\n",
    "    [-43.41287287680422, -21.750887131860495],\n",
    "    [-43.41287287680422, -21.756108688468274]\n",
    "]\n",
    "\n",
    "aoi = ee.Geometry.Polygon(polygon_coords, None, False)"
   ]
  },
  {
   "cell_type": "markdown",
   "id": "2e2ef316-6ac3-4fbc-83f8-b844b6433dcf",
   "metadata": {},
   "source": [
    "### Escolha da coleção de imagens"
   ]
  },
  {
   "cell_type": "markdown",
   "id": "9e0fe117-a1ce-4f6e-9f58-33690e6c8e9d",
   "metadata": {},
   "source": [
    "Aplicamos os filtros de acordo com os parâmetros:"
   ]
  },
  {
   "cell_type": "code",
   "execution_count": null,
   "id": "619325af-2cdb-4e69-98db-baa391028a7d",
   "metadata": {},
   "outputs": [],
   "source": [
    "db = ee.ImageCollection('COPERNICUS/S2_SR_HARMONIZED') \\\n",
    "                .filterBounds(aoi) \\\n",
    "                .filterDate(ee.Date(data_inicial), ee.Date(data_final)) "
   ]
  },
  {
   "cell_type": "markdown",
   "id": "e6d0f02c-ed25-4f4a-8341-f26b3b85caed",
   "metadata": {},
   "source": [
    "### Contagem das imagens disponíveis"
   ]
  },
  {
   "cell_type": "code",
   "execution_count": null,
   "id": "aadf0d69-b743-467c-b202-df0a7f8f8565",
   "metadata": {},
   "outputs": [],
   "source": [
    "dbCount = db.size()\n",
    "print('Quantidade: ', str(dbCount.getInfo())+'\\n')"
   ]
  },
  {
   "cell_type": "markdown",
   "id": "2f57fbb5-0f57-490b-a30e-da2f2c219091",
   "metadata": {},
   "source": [
    "### Extraímos a imagem com menor cobertura de nuvens"
   ]
  },
  {
   "cell_type": "code",
   "execution_count": null,
   "id": "615f8a71-7783-4e56-8e10-52008acd7fcd",
   "metadata": {},
   "outputs": [],
   "source": [
    "db = ee.Image(db.sort('CLOUDY_PIXEL_PERCENTAGE').first())"
   ]
  },
  {
   "cell_type": "markdown",
   "id": "db2aff93-6bc9-47a4-a354-6cc0f098f4c0",
   "metadata": {},
   "source": [
    "### Contagem das bandas disponíveis"
   ]
  },
  {
   "cell_type": "code",
   "execution_count": null,
   "id": "7961bd3f-1361-4c91-9dad-c2b2e4eab25c",
   "metadata": {},
   "outputs": [],
   "source": [
    "# Obtém os nomes das bandas\n",
    "band_names = db.bandNames()\n",
    "\n",
    "# Conta o número de bandas\n",
    "number_of_bands = band_names.size().getInfo()\n",
    "\n",
    "# Imprime o número de bandas\n",
    "print(f'Número de bandas: {number_of_bands}')"
   ]
  },
  {
   "cell_type": "markdown",
   "id": "1afdba6c-b13a-45b2-a9b0-3a4a6691614e",
   "metadata": {},
   "source": [
    "### Bandas que iniciam com a letra 'B'"
   ]
  },
  {
   "cell_type": "code",
   "execution_count": null,
   "id": "cd8deac2-5294-4b59-b738-552d97bbca73",
   "metadata": {},
   "outputs": [],
   "source": [
    "# Leitura das bandas, que começam com \"B\"\n",
    "db_bands = db.select('[B].*')\n",
    "\n",
    "# Criamos um dicionário das bandas\n",
    "db_band_info = db_bands.getInfo()\n",
    "type(db_band_info)\n",
    "\n",
    "# Iteramos sobre o dicionário \n",
    "print('Bandas:\\n')\n",
    "for i in range(len(db_band_info['bands'])):\n",
    "    print(db_band_info['bands'][i]['id'])"
   ]
  },
  {
   "cell_type": "markdown",
   "id": "35ab841b-0c6e-4ea6-a954-a5ecaa309298",
   "metadata": {},
   "source": [
    "### Extraímos as propriedades das bandas selecionadas"
   ]
  },
  {
   "cell_type": "code",
   "execution_count": null,
   "id": "e2958888-1a83-469a-bfa4-4cfe0d8625d3",
   "metadata": {},
   "outputs": [],
   "source": [
    "db_bands.getInfo()['bands']"
   ]
  },
  {
   "cell_type": "markdown",
   "id": "bf2c5816-0a3e-4606-bd11-b75fc20701d4",
   "metadata": {},
   "source": [
    "## Metadados"
   ]
  },
  {
   "cell_type": "markdown",
   "id": "1620031f-e192-4789-98e4-87bb6ad70bbd",
   "metadata": {},
   "source": [
    "Para obter os metadados no **Google Earth Engine**, chamamos o método *getInfo* no objeto *Image* criado."
   ]
  },
  {
   "cell_type": "code",
   "execution_count": null,
   "id": "4f76010a-ebb3-471f-87a9-5fe89c08152e",
   "metadata": {},
   "outputs": [],
   "source": [
    "db_info = db.getInfo()"
   ]
  },
  {
   "cell_type": "markdown",
   "id": "d96f3cd3-6127-4f5d-9c07-b06d939f8280",
   "metadata": {},
   "source": [
    "## Listamos o dicionário de metadados associados à imagem"
   ]
  },
  {
   "cell_type": "code",
   "execution_count": null,
   "id": "654f008c-d569-4992-bfe5-e319f52a3342",
   "metadata": {},
   "outputs": [],
   "source": [
    "print(\"Fields of Image Info:\")\n",
    "for key in db_info:\n",
    "    print(key)"
   ]
  },
  {
   "cell_type": "markdown",
   "id": "768a0523-6cfe-4c4b-9027-182cfb2ab587",
   "metadata": {},
   "source": [
    "### Listamos as propriedades da imagem"
   ]
  },
  {
   "cell_type": "code",
   "execution_count": null,
   "id": "0a98a790-c8ff-4cb5-9909-e29e658bfe65",
   "metadata": {},
   "outputs": [],
   "source": [
    "properties = db_info.get('properties', {})\n",
    "\n",
    "print(\"Principais propriedades da imagem:\")\n",
    "for i, (key, value) in enumerate(properties.items()):\n",
    "    #if i >= 20:\n",
    "        #break\n",
    "    print(f\"{key}: {value}\")\n"
   ]
  },
  {
   "cell_type": "markdown",
   "id": "a106eb8a-1c9e-4e42-98f0-d1389fef6908",
   "metadata": {},
   "source": [
    "### Acessamos uma propriedade específica"
   ]
  },
  {
   "cell_type": "code",
   "execution_count": null,
   "id": "30dc77d4-3747-4a4b-a567-50965a400fcd",
   "metadata": {},
   "outputs": [],
   "source": [
    "# Acessar as propriedades da imagem\n",
    "properties = db_info.get('properties', {})\n",
    "\n",
    "# Especificar a propriedade que você quer obter\n",
    "cloud_shadow_percentage = properties.get('CLOUD_SHADOW_PERCENTAGE')\n",
    "\n",
    "# Imprimir o valor da propriedade\n",
    "print(f\"PERCENTUAL DE NUVENS: {cloud_shadow_percentage}\")\n"
   ]
  },
  {
   "cell_type": "markdown",
   "id": "382fa85e-8fa3-4a21-a36c-de15ab96db4f",
   "metadata": {},
   "source": [
    "### Listamos a escala das bandas iniciadas com a letra 'B'"
   ]
  },
  {
   "cell_type": "code",
   "execution_count": null,
   "id": "f1a90316-b7b2-4663-80c0-a899bf944f92",
   "metadata": {},
   "outputs": [],
   "source": [
    "# Obter a lista de bandas\n",
    "band_names = db.bandNames().getInfo()\n",
    "\n",
    "for band in band_names:\n",
    "    if band.startswith('B'):\n",
    "        scale = db.select(band).projection().nominalScale()\n",
    "        print(f'Banda {band} Escala: {scale.getInfo()} metros')"
   ]
  },
  {
   "cell_type": "markdown",
   "id": "127770c8-7844-4fd0-8854-7abc0dc163af",
   "metadata": {},
   "source": [
    "### Escala x tamanho do pixel"
   ]
  },
  {
   "cell_type": "markdown",
   "id": "6e4e7ef3-2197-4ac7-aa3b-12e6b8dcfbe8",
   "metadata": {},
   "source": [
    "A escala nominal e o tamanho do *pixel* estão relacionados, mas não são exatamente a mesma coisa. A escala nominal refere-se à resolução espacial da banda em termos de tamanho de *pixel* no solo, mas é expressa como um valor em metros. O tamanho do *pixel* refere-se ao tamanho físico do *pixel* na imagem, geralmente também expresso em metros. \n",
    "\n",
    "No entanto, na prática, a escala nominal normalmente coincide com o tamanho do *pixel* em imagens de satélite, especialmente em projeções regulares como **UTM (Universal Transverse Mercator)**, sistema de coordenadas geográficas que divide o mundo em uma série de zonas longitudinais e projeta a superfície terrestre em um plano 2D, utilizando a projeção cilíndrica transversal de *Mercator*."
   ]
  },
  {
   "cell_type": "code",
   "execution_count": null,
   "id": "968cb648-b4eb-401c-8118-f913f4f38ebb",
   "metadata": {},
   "outputs": [],
   "source": [
    "# Iterar sobre as bandas que começam com 'B' e obter suas características\n",
    "for band in band_names:\n",
    "    if band.startswith('B'):\n",
    "        scale = db.select(band).projection().nominalScale().getInfo()\n",
    "        pixel_size = db.select(band).projection().getInfo()['transform'][0]\n",
    "        print(f'Banda: {band}, Escala: {scale} metros, Tamanho do Pixel: {pixel_size} metros')"
   ]
  }
 ],
 "metadata": {
  "kernelspec": {
   "display_name": "Python 3 (ipykernel)",
   "language": "python",
   "name": "python3"
  },
  "language_info": {
   "codemirror_mode": {
    "name": "ipython",
    "version": 3
   },
   "file_extension": ".py",
   "mimetype": "text/x-python",
   "name": "python",
   "nbconvert_exporter": "python",
   "pygments_lexer": "ipython3",
   "version": "3.10.12"
  }
 },
 "nbformat": 4,
 "nbformat_minor": 5
}
